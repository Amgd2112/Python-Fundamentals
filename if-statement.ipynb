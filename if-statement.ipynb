{
 "cells": [
  {
   "cell_type": "markdown",
   "metadata": {},
   "source": [
    "## If - Else Statements"
   ]
  },
  {
   "cell_type": "code",
   "execution_count": 1,
   "metadata": {},
   "outputs": [],
   "source": [
    "info = {\n",
    "    \"name\": \"name\",\n",
    "    \"password\": 902390232,\n",
    "    \"Working\": \"Works at company\"\n",
    "}\n",
    "\n",
    "def access(password):\n",
    "    if info[\"password\"] == password:\n",
    "        print(f\"Welcome {info['name']}\")\n",
    "        return True\n",
    "    else:\n",
    "        print(\"Incorrect password!\")\n",
    "        return False"
   ]
  },
  {
   "cell_type": "code",
   "execution_count": 2,
   "metadata": {},
   "outputs": [
    {
     "name": "stdout",
     "output_type": "stream",
     "text": [
      "Enter Your Password :879283492\n",
      "Incorrect password!\n",
      "Enter Your Password :902390232\n",
      "Welcome name\n"
     ]
    }
   ],
   "source": [
    "password = ''\n",
    "while password != \"quit\":\n",
    "    password = int(input(\"Enter Your Password :\"))\n",
    "    if access(password):\n",
    "        break"
   ]
  },
  {
   "cell_type": "markdown",
   "metadata": {},
   "source": [
    "## If - *Elif - Else Statements"
   ]
  },
  {
   "cell_type": "code",
   "execution_count": 3,
   "metadata": {},
   "outputs": [],
   "source": [
    "def grade(grade_number):\n",
    "    if grade_number >= 50 and grade_number < 60:\n",
    "        return \"Passed\"\n",
    "    elif grade_number >= 60 and grade_number < 70:\n",
    "        return \"Good\"\n",
    "    elif grade_number >= 70 and grade_number < 80:\n",
    "        return \"Very Good\"\n",
    "    elif grade_number >= 80 and grade_number <= 100:\n",
    "        return \"Excellent\"\n",
    "    else:\n",
    "        return \"Failure\""
   ]
  },
  {
   "cell_type": "code",
   "execution_count": 4,
   "metadata": {},
   "outputs": [
    {
     "name": "stdout",
     "output_type": "stream",
     "text": [
      "Enter Your grade: 77\n",
      "Very Good\n"
     ]
    }
   ],
   "source": [
    "my_grade = int(input(\"Enter Your grade: \"))\n",
    "print(grade(my_grade))"
   ]
  },
  {
   "cell_type": "markdown",
   "metadata": {},
   "source": [
    "## One Line Condition <center> value_true if (condition) else value_false </center>"
   ]
  },
  {
   "cell_type": "code",
   "execution_count": 5,
   "metadata": {},
   "outputs": [],
   "source": [
    "num = 9"
   ]
  },
  {
   "cell_type": "code",
   "execution_count": 6,
   "metadata": {},
   "outputs": [
    {
     "name": "stdout",
     "output_type": "stream",
     "text": [
      "9\n"
     ]
    }
   ],
   "source": [
    "print(num if num > 0 else 0)"
   ]
  },
  {
   "cell_type": "code",
   "execution_count": 7,
   "metadata": {},
   "outputs": [],
   "source": [
    "num = -9"
   ]
  },
  {
   "cell_type": "code",
   "execution_count": 8,
   "metadata": {},
   "outputs": [
    {
     "name": "stdout",
     "output_type": "stream",
     "text": [
      "0\n"
     ]
    }
   ],
   "source": [
    "print(num if num > 0 else 0)"
   ]
  }
 ],
 "metadata": {
  "kernelspec": {
   "display_name": "Python 3",
   "language": "python",
   "name": "python3"
  },
  "language_info": {
   "codemirror_mode": {
    "name": "ipython",
    "version": 3
   },
   "file_extension": ".py",
   "mimetype": "text/x-python",
   "name": "python",
   "nbconvert_exporter": "python",
   "pygments_lexer": "ipython3",
   "version": "3.7.7"
  }
 },
 "nbformat": 4,
 "nbformat_minor": 2
}
