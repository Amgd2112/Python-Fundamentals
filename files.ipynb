{
 "cells": [
  {
   "cell_type": "markdown",
   "metadata": {},
   "source": [
    "## Write File"
   ]
  },
  {
   "cell_type": "code",
   "execution_count": 1,
   "metadata": {},
   "outputs": [],
   "source": [
    "file = open(\"myfile.txt\", 'w')\n",
    "\n",
    "file.write(\"Four people died after a fire broke out in a shopping mall in South Korea.\\nThe fire started in a children´s play area inside the mall.\\nNo children were inside the play area at the time.\")\n",
    "\n",
    "file.close()"
   ]
  },
  {
   "cell_type": "markdown",
   "metadata": {},
   "source": [
    "- **r**: (read)\n",
    "- **w**: (write)\n",
    "- **a**: (append)\n",
    "- **wr**: (read or write)"
   ]
  },
  {
   "cell_type": "markdown",
   "metadata": {},
   "source": [
    "## Read File"
   ]
  },
  {
   "cell_type": "code",
   "execution_count": 2,
   "metadata": {},
   "outputs": [
    {
     "name": "stdout",
     "output_type": "stream",
     "text": [
      "Four people died after a fire broke out in a shopping mall in South Korea.\n",
      "The fire started in a children´s play area inside the mall.\n",
      "No children were inside the play area at the time.\n"
     ]
    }
   ],
   "source": [
    "file = open(\"myfile.txt\", 'r')\n",
    "text = file.read() # Read entire file into a string\n",
    "print(text)"
   ]
  },
  {
   "cell_type": "markdown",
   "metadata": {},
   "source": [
    "> Now you sitting at the end of the file so you have to seek the beginning of the file, so that can possible to read it again."
   ]
  },
  {
   "cell_type": "code",
   "execution_count": 3,
   "metadata": {},
   "outputs": [
    {
     "name": "stdout",
     "output_type": "stream",
     "text": [
      "Four people died after a fire broke out in a shopping mall in South Korea.\n",
      "The fire started in a children´s play area inside the mall.\n",
      "No children were inside the play area at the time.\n"
     ]
    }
   ],
   "source": [
    "file.seek(0,0)\n",
    "text = file.read()\n",
    "print(text)\n",
    "file.close()"
   ]
  },
  {
   "cell_type": "markdown",
   "metadata": {},
   "source": [
    "### loop line by line ... each file you opened you should close it."
   ]
  },
  {
   "cell_type": "code",
   "execution_count": 4,
   "metadata": {},
   "outputs": [
    {
     "name": "stdout",
     "output_type": "stream",
     "text": [
      "Four people died after a fire broke out in a shopping mall in South Korea.\n",
      "\n",
      "The fire started in a children´s play area inside the mall.\n",
      "\n",
      "No children were inside the play area at the time.\n"
     ]
    }
   ],
   "source": [
    "data = open(\"myfile.txt\", 'r')\n",
    "for line in data:\n",
    "    print(line)\n",
    "\n",
    "data.close()"
   ]
  },
  {
   "cell_type": "markdown",
   "metadata": {},
   "source": [
    "## Append File"
   ]
  },
  {
   "cell_type": "code",
   "execution_count": 5,
   "metadata": {},
   "outputs": [],
   "source": [
    "file = open(\"myfile.txt\", 'a')\n",
    "\n",
    "file.write(\"\\nno one died!\")\n",
    "\n",
    "file.close()"
   ]
  },
  {
   "cell_type": "code",
   "execution_count": 6,
   "metadata": {},
   "outputs": [
    {
     "name": "stdout",
     "output_type": "stream",
     "text": [
      "Four people died after a fire \n",
      "30\n"
     ]
    }
   ],
   "source": [
    "file = open(\"myfile.txt\", 'r')\n",
    "\n",
    "print(file.read(30)) # from the current position get the next *n characters\n",
    "print(file.tell())  # how many charcters in this file"
   ]
  },
  {
   "cell_type": "code",
   "execution_count": 7,
   "metadata": {},
   "outputs": [
    {
     "name": "stdout",
     "output_type": "stream",
     "text": [
      "Four people died after a fire broke out in a shopping mall in South Korea.\n",
      "\n",
      "The fire started in a children´s play area inside the mall.\n",
      "\n",
      "No children were inside the play area at the time.\n",
      "\n",
      "no one died!\n"
     ]
    }
   ],
   "source": [
    "file.seek(0, 0) # seek to begin\n",
    "\n",
    "line = file.readline()\n",
    "while line != '':\n",
    "    print(line)\n",
    "    line = file.readline()\n",
    "\n",
    "file.close()"
   ]
  },
  {
   "cell_type": "markdown",
   "metadata": {},
   "source": [
    "## with .. as .. statement : shortcut openning"
   ]
  },
  {
   "cell_type": "code",
   "execution_count": 8,
   "metadata": {},
   "outputs": [
    {
     "name": "stdout",
     "output_type": "stream",
     "text": [
      "15 words, at line: Four people died after a fire broke out in a shopping mall in South Korea.\n",
      "11 words, at line: The fire started in a children´s play area inside the mall.\n",
      "10 words, at line: No children were inside the play area at the time.\n",
      "3 words, at line: no one died!\n"
     ]
    }
   ],
   "source": [
    "with open(\"myfile.txt\", 'r') as myfile:\n",
    "    text = myfile.read().strip().split('\\n')\n",
    "    \n",
    "    for line in text:\n",
    "        words = line.split()\n",
    "        print(f\"{len(words)} words, at line: {line}\")\n",
    "\n",
    "# the file closed automatically"
   ]
  },
  {
   "cell_type": "markdown",
   "metadata": {},
   "source": [
    "> with statement : makes your code clear and **closing files after open it outomaticly**."
   ]
  },
  {
   "cell_type": "code",
   "execution_count": null,
   "metadata": {},
   "outputs": [],
   "source": []
  }
 ],
 "metadata": {
  "kernelspec": {
   "display_name": "Python 3",
   "language": "python",
   "name": "python3"
  },
  "language_info": {
   "codemirror_mode": {
    "name": "ipython",
    "version": 3
   },
   "file_extension": ".py",
   "mimetype": "text/x-python",
   "name": "python",
   "nbconvert_exporter": "python",
   "pygments_lexer": "ipython3",
   "version": "3.7.7"
  }
 },
 "nbformat": 4,
 "nbformat_minor": 2
}
